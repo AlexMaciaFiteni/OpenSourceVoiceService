{
  "nbformat": 4,
  "nbformat_minor": 0,
  "metadata": {
    "colab": {
      "name": "DDC-TTS_and_MultiBand-MelGAN_TF_Example.ipynb",
      "provenance": [],
      "collapsed_sections": [],
      "toc_visible": true
    },
    "kernelspec": {
      "name": "python3",
      "display_name": "Python 3"
    }
  },
  "cells": [
    {
      "cell_type": "markdown",
      "metadata": {
        "id": "6LWsNd3_M3MP",
        "colab_type": "text"
      },
      "source": [
        "# Mozilla TTS on CPU Real-Time Speech Synthesis with Tensorflow"
      ]
    },
    {
      "cell_type": "markdown",
      "metadata": {
        "id": "FAqrSIWgLyP0",
        "colab_type": "text"
      },
      "source": [
        "**These models are converted from released [PyTorch models](https://colab.research.google.com/drive/1u_16ZzHjKYFn1HNVuA4Qf_i2MMFB9olY?usp=sharing) using our TF utilities provided in Mozilla TTS.**\n",
        "\n",
        "These TF models support TF 2.2 and for different versions you might need to\n",
        "regenerate them. \n",
        "\n",
        "We use Tacotron2 and MultiBand-Melgan models and LJSpeech dataset.\n",
        "\n",
        "Tacotron2 is trained using [Double Decoder Consistency](https://erogol.com/solving-attention-problems-of-tts-models-with-double-decoder-consistency/) (DDC) only for 130K steps (3 days) with a single GPU.\n",
        "\n",
        "MultiBand-Melgan is trained  1.45M steps with real spectrograms.\n",
        "\n",
        "Note that both model performances can be improved with more training.\n"
      ]
    },
    {
      "cell_type": "markdown",
      "metadata": {
        "id": "Ku-dA4DKoeXk",
        "colab_type": "text"
      },
      "source": [
        "### Download Models"
      ]
    },
    {
      "cell_type": "code",
      "metadata": {
        "id": "jGIgnWhGsxU1",
        "colab_type": "code",
        "colab": {
          "base_uri": "https://localhost:8080/",
          "height": 162
        },
        "outputId": "08b0dddd-4edf-48c9-e8e5-a419b36a5c3d",
        "tags": []
      },
      "source": [
        "!gdown --id 1p7OSEEW_Z7ORxNgfZwhMy7IiLE1s0aH7 -O data/tts_model.pkl\n",
        "!gdown --id 18CQ6G6tBEOfvCHlPqP8EBI4xWbrr9dBc -O data/config.json"
      ],
      "execution_count": null,
      "outputs": []
    },
    {
      "cell_type": "code",
      "metadata": {
        "id": "4dnpE0-kvTsu",
        "colab_type": "code",
        "colab": {
          "base_uri": "https://localhost:8080/",
          "height": 235
        },
        "outputId": "2fe836eb-c7e7-4f1e-9352-0142126bb19f",
        "tags": []
      },
      "source": [
        "!gdown --id 1rHmj7CqD3Sfa716Y3ub_vpIBrQg_b1yF -O data/vocoder_model.pkl\n",
        "!gdown --id 1Rd0R_nRCrbjEdpOwq6XwZAktvugiBvmu -O data/config_vocoder.json\n",
        "!gdown --id 11oY3Tv0kQtxK_JPgxrfesa99maVXHNxU -O data/scale_stats.npy"
      ],
      "execution_count": null,
      "outputs": []
    },
    {
      "cell_type": "markdown",
      "metadata": {
        "id": "Zlgi8fPdpRF0",
        "colab_type": "text"
      },
      "source": [
        "### Define TTS function"
      ]
    },
    {
      "cell_type": "code",
      "metadata": {
        "id": "f-Yc42nQZG5A",
        "colab_type": "code",
        "colab": {}
      },
      "source": [
        "def tts(model, text, CONFIG, p):\n",
        "    t_1 = time.time()\n",
        "    waveform, alignment, mel_spec, mel_postnet_spec, stop_tokens, inputs = synthesis(model, text, CONFIG, use_cuda, ap, speaker_id, style_wav=None,\n",
        "                                                                             truncated=False, enable_eos_bos_chars=CONFIG.enable_eos_bos_chars,\n",
        "                                                                             backend='tf')\n",
        "    waveform = vocoder_model.inference(torch.FloatTensor(mel_postnet_spec.T).unsqueeze(0))\n",
        "    waveform = waveform.numpy()[0, 0]\n",
        "    rtf = (time.time() - t_1) / (len(waveform) / ap.sample_rate)\n",
        "    tps = (time.time() - t_1) / len(waveform)\n",
        "    print(waveform.shape)\n",
        "    print(\" > Run-time: {}\".format(time.time() - t_1))\n",
        "    print(\" > Real-time factor: {}\".format(rtf))\n",
        "    print(\" > Time per step: {}\".format(tps))\n",
        "    IPython.display.display(IPython.display.Audio(waveform, rate=CONFIG.audio['sample_rate']))  \n",
        "    return alignment, mel_postnet_spec, stop_tokens, waveform"
      ],
      "execution_count": null,
      "outputs": []
    },
    {
      "cell_type": "markdown",
      "metadata": {
        "id": "ZksegYQepkFg",
        "colab_type": "text"
      },
      "source": [
        "### Load Models"
      ]
    },
    {
      "cell_type": "code",
      "metadata": {
        "id": "oVa0kOamprgj",
        "colab_type": "code",
        "colab": {}
      },
      "source": [
        "import os\n",
        "import torch\n",
        "import time\n",
        "import IPython\n",
        "\n",
        "from TTS.tts.tf.utils.generic_utils import setup_model\n",
        "from TTS.tts.tf.utils.io import load_checkpoint\n",
        "from TTS.utils.io import load_config\n",
        "from TTS.tts.utils.text.symbols import symbols, phonemes\n",
        "from TTS.utils.audio import AudioProcessor\n",
        "from TTS.tts.utils.synthesis import synthesis"
      ],
      "execution_count": null,
      "outputs": []
    },
    {
      "cell_type": "code",
      "metadata": {
        "id": "EY-sHVO8IFSH",
        "colab_type": "code",
        "colab": {}
      },
      "source": [
        "# runtime settings\n",
        "use_cuda = False"
      ],
      "execution_count": null,
      "outputs": []
    },
    {
      "cell_type": "code",
      "metadata": {
        "id": "_1aIUp2FpxOQ",
        "colab_type": "code",
        "colab": {}
      },
      "source": [
        "# model paths\n",
        "TTS_MODEL = \"data/tts_model.pkl\"\n",
        "TTS_CONFIG = \"data/config.json\"\n",
        "VOCODER_MODEL = \"data/vocoder_model.pkl\"\n",
        "VOCODER_CONFIG = \"data/config_vocoder.json\""
      ],
      "execution_count": null,
      "outputs": []
    },
    {
      "cell_type": "code",
      "metadata": {
        "id": "CpgmdBVQplbv",
        "colab_type": "code",
        "colab": {}
      },
      "source": [
        "# load configs\n",
        "TTS_CONFIG = load_config(TTS_CONFIG)\n",
        "VOCODER_CONFIG = load_config(VOCODER_CONFIG)"
      ],
      "execution_count": null,
      "outputs": []
    },
    {
      "cell_type": "code",
      "metadata": {
        "id": "zmrQxiozIUVE",
        "colab_type": "code",
        "colab": {
          "base_uri": "https://localhost:8080/",
          "height": 471
        },
        "outputId": "fa71bd05-401f-4e5b-a6f7-60ae765966db",
        "tags": []
      },
      "source": [
        "# load the audio processor\n",
        "TTS_CONFIG.audio['stats_path'] = 'data/scale_stats.npy'\n",
        "ap = AudioProcessor(**TTS_CONFIG.audio)         "
      ],
      "execution_count": null,
      "outputs": []
    },
    {
      "cell_type": "code",
      "metadata": {
        "id": "8fLoI4ipqMeS",
        "colab_type": "code",
        "colab": {
          "base_uri": "https://localhost:8080/",
          "height": 72
        },
        "outputId": "595d990f-930d-4698-ee14-77796b5eed7d",
        "tags": []
      },
      "source": [
        "# LOAD TTS MODEL\n",
        "# multi speaker \n",
        "speaker_id = None\n",
        "speakers = []\n",
        "\n",
        "# load the model\n",
        "num_chars = len(phonemes) if TTS_CONFIG.use_phonemes else len(symbols)\n",
        "model = setup_model(num_chars, len(speakers), TTS_CONFIG)\n",
        "model.build_inference()\n",
        "model = load_checkpoint(model, TTS_MODEL)\n",
        "model.decoder.set_max_decoder_steps(1000)"
      ],
      "execution_count": null,
      "outputs": []
    },
    {
      "cell_type": "code",
      "metadata": {
        "id": "zKoq0GgzqzhQ",
        "colab_type": "code",
        "colab": {
          "base_uri": "https://localhost:8080/",
          "height": 489
        },
        "outputId": "2cc3deae-144f-4465-da3b-98628d948506"
      },
      "source": [
        "from TTS.vocoder.tf.utils.generic_utils import setup_generator\n",
        "from TTS.vocoder.tf.utils.io import load_checkpoint\n",
        "\n",
        "# LOAD VOCODER MODEL\n",
        "vocoder_model = setup_generator(VOCODER_CONFIG)\n",
        "vocoder_model.build_inference()\n",
        "vocoder_model = load_checkpoint(vocoder_model, VOCODER_MODEL)\n",
        "vocoder_model.inference_padding = 0\n",
        "\n",
        "ap_vocoder = AudioProcessor(**VOCODER_CONFIG['audio'])    "
      ],
      "execution_count": null,
      "outputs": []
    },
    {
      "cell_type": "markdown",
      "metadata": {
        "id": "Ws_YkPKsLgo-",
        "colab_type": "text"
      },
      "source": [
        "## Run Inference"
      ]
    },
    {
      "cell_type": "code",
      "metadata": {
        "id": "FuWxZ9Ey5Puj",
        "colab_type": "code",
        "colab": {
          "base_uri": "https://localhost:8080/",
          "height": 134
        },
        "outputId": "07ede6e5-06e6-4612-f687-7984d20e5254"
      },
      "source": [
        "sentence =  \"Bill got in the habit of asking himself “Is that thought true?” and if he wasn’t absolutely certain it was, he just let it go.\"\n",
        "align, spec, stop_tokens, wav = tts(model, sentence, TTS_CONFIG, ap)"
      ],
      "execution_count": null,
      "outputs": []
    }
  ]
}